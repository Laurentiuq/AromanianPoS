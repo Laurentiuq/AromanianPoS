{
 "cells": [
  {
   "cell_type": "code",
   "execution_count": 9,
   "metadata": {
    "collapsed": true,
    "ExecuteTime": {
     "end_time": "2023-12-03T21:26:21.221944Z",
     "start_time": "2023-12-03T21:26:21.084922900Z"
    }
   },
   "outputs": [],
   "source": [
    "import os\n",
    "import conllu\n",
    "# import Levenshtein as lev\n",
    "import numpy as np\n",
    "import re\n",
    "import tqdm\n",
    "import json\n",
    "from bs4 import BeautifulSoup"
   ]
  },
  {
   "cell_type": "code",
   "execution_count": 2,
   "outputs": [
    {
     "data": {
      "text/plain": "str"
     },
     "execution_count": 2,
     "metadata": {},
     "output_type": "execute_result"
    }
   ],
   "source": [
    "data = open(\"ro_art-ud-test.conllu\", \"r\", encoding=\"utf-8\")\n",
    "annotations = data.read()\n",
    "type(annotations)"
   ],
   "metadata": {
    "collapsed": false,
    "ExecuteTime": {
     "end_time": "2023-11-27T14:38:02.628702600Z",
     "start_time": "2023-11-27T14:38:02.602115200Z"
    }
   }
  },
  {
   "cell_type": "code",
   "execution_count": 6,
   "outputs": [
    {
     "name": "stdout",
     "output_type": "stream",
     "text": [
      "[{'id': 1, 'form': 'Ĺepurle', 'lemma': 'lepure', 'upos': 'NOUN', 'xpos': 'Ncmsry', 'feats': 'Case=Acc,Nom|Definite=Def|Gender=Masc|Number=Sing', 'head': 2, 'deprel': 'nsubj', 'deps': '_', 'misc': '_'}, {'id': 2, 'form': 'ansare', 'lemma': 'ansar', 'upos': 'VERB', 'xpos': 'Vmip3s', 'feats': 'Mood=Ind|Number=Sing|Person=3|Tense=Pres|VerbForm=Fin', 'head': 0, 'deprel': 'root', 'deps': '_', 'misc': '_'}, {'id': 3, 'form': 'd-', 'lemma': 'di', 'upos': 'ADP', 'xpos': 'Spsa', 'feats': 'AdpType=Prep|Case=Acc', 'head': 4, 'deprel': 'case', 'deps': '_', 'misc': 'SpaceAfter=No'}, {'id': 4, 'form': 'iu', 'lemma': 'iu', 'upos': 'ADV', 'xpos': 'Rw', 'feats': 'PronType=Int,Rel', 'head': 7, 'deprel': 'advmod', 'deps': '_', 'misc': '_'}, {'id': 5, 'form': 'nu', 'lemma': 'nu', 'upos': 'PART', 'xpos': 'Qz', 'feats': 'Polarity=Neg', 'head': 7, 'deprel': 'advmod', 'deps': '_', 'misc': '_'}, {'id': 6, 'form': 'te-', 'lemma': 'tini', 'upos': 'PRON', 'xpos': 'Pp2-sa--------w', 'feats': 'Case=Acc|Number=Sing|Person=2|PronType=Prs|Strength=Weak', 'head': 7, 'deprel': 'expl:pv', 'deps': '_', 'misc': 'SpaceAfter=No'}, {'id': 7, 'form': 'aştepţ', 'lemma': 'așteptu', 'upos': 'VERB', 'xpos': 'Vmip2s', 'feats': 'Mood=Ind|Number=Sing|Person=2|Tense=Pres|VerbForm=Fin', 'head': 2, 'deprel': 'advcl', 'deps': '_', 'misc': 'SpaceAfter=No'}, {'id': 8, 'form': '.', 'lemma': '.', 'upos': 'PUNCT', 'xpos': 'PERIOD', 'feats': '_', 'head': 2, 'deprel': 'punct', 'deps': '_', 'misc': '_'}]\n"
     ]
    }
   ],
   "source": [
    "def read_conllu(file_path):\n",
    "    sentences = []\n",
    "    with open(file_path, 'r', encoding='utf-8') as file:\n",
    "        current_sentence = []\n",
    "        for line in file:\n",
    "            line = line.strip()\n",
    "            if line.startswith('# sent_id'):\n",
    "                if current_sentence:\n",
    "                    sentences.append(current_sentence)\n",
    "                current_sentence = []\n",
    "            elif not line or line.startswith('#'):\n",
    "                continue\n",
    "            else:\n",
    "                columns = line.split('\\t')\n",
    "                current_sentence.append({\n",
    "                    'id': int(columns[0]),\n",
    "                    'form': columns[1],\n",
    "                    'lemma': columns[2],\n",
    "                    'upos': columns[3],\n",
    "                    'xpos': columns[4],\n",
    "                    'feats': columns[5],\n",
    "                    'head': int(columns[6]),\n",
    "                    'deprel': columns[7],\n",
    "                    'deps': columns[8],\n",
    "                    'misc': columns[9],\n",
    "                })\n",
    "        if current_sentence:\n",
    "            sentences.append(current_sentence)\n",
    "    return sentences\n",
    "\n",
    "sentences = read_conllu(\"ro_art-ud-test.conllu\")\n",
    "print(sentences[0])\n"
   ],
   "metadata": {
    "collapsed": false,
    "ExecuteTime": {
     "end_time": "2023-11-27T14:38:55.034203300Z",
     "start_time": "2023-11-27T14:38:55.016860600Z"
    }
   }
  },
  {
   "cell_type": "code",
   "execution_count": 10,
   "outputs": [
    {
     "name": "stdout",
     "output_type": "stream",
     "text": [
      "['îndată', 'înceapă', 'două', 'învață', 'înecată', 'întoarcă', 'încoace', 'Îndată', 'doară', 'înhață']\n"
     ]
    }
   ],
   "source": [
    "import json\n",
    "json_file_path = \"candidates.json\"\n",
    "with open(json_file_path, 'r') as json_file:\n",
    "    candidates_dict_test = json.load(json_file)\n",
    "\n",
    "print(candidates_dict_test['îndoauă'])"
   ],
   "metadata": {
    "collapsed": false,
    "ExecuteTime": {
     "end_time": "2023-12-03T21:26:26.990250800Z",
     "start_time": "2023-12-03T21:26:26.926206400Z"
    }
   }
  },
  {
   "cell_type": "code",
   "execution_count": 1,
   "outputs": [],
   "source": [
    "import pandas as pd\n",
    "excel_path = \"Papahagi.xls\"\n",
    "df = pd.read_excel(excel_path, header = None)"
   ],
   "metadata": {
    "collapsed": false,
    "ExecuteTime": {
     "end_time": "2023-12-03T21:24:42.642412500Z",
     "start_time": "2023-12-03T21:24:41.472976600Z"
    }
   }
  },
  {
   "cell_type": "code",
   "execution_count": 2,
   "outputs": [
    {
     "data": {
      "text/plain": "                     0  1                 2    3    4    5\n0  art proclitic invar  a  al, a, ai, ale,   lat  NaN  pap\n1      conj-adversativ  a               dar  lat  NaN  pap\n2                 prep  a              de-a  lat  NaN  pap\n3      conj-adversativ  a              iar   lat  NaN  pap\n4      conj-adversativ  a              iară  lat  NaN  pap",
      "text/html": "<div>\n<style scoped>\n    .dataframe tbody tr th:only-of-type {\n        vertical-align: middle;\n    }\n\n    .dataframe tbody tr th {\n        vertical-align: top;\n    }\n\n    .dataframe thead th {\n        text-align: right;\n    }\n</style>\n<table border=\"1\" class=\"dataframe\">\n  <thead>\n    <tr style=\"text-align: right;\">\n      <th></th>\n      <th>0</th>\n      <th>1</th>\n      <th>2</th>\n      <th>3</th>\n      <th>4</th>\n      <th>5</th>\n    </tr>\n  </thead>\n  <tbody>\n    <tr>\n      <th>0</th>\n      <td>art proclitic invar</td>\n      <td>a</td>\n      <td>al, a, ai, ale,</td>\n      <td>lat</td>\n      <td>NaN</td>\n      <td>pap</td>\n    </tr>\n    <tr>\n      <th>1</th>\n      <td>conj-adversativ</td>\n      <td>a</td>\n      <td>dar</td>\n      <td>lat</td>\n      <td>NaN</td>\n      <td>pap</td>\n    </tr>\n    <tr>\n      <th>2</th>\n      <td>prep</td>\n      <td>a</td>\n      <td>de-a</td>\n      <td>lat</td>\n      <td>NaN</td>\n      <td>pap</td>\n    </tr>\n    <tr>\n      <th>3</th>\n      <td>conj-adversativ</td>\n      <td>a</td>\n      <td>iar</td>\n      <td>lat</td>\n      <td>NaN</td>\n      <td>pap</td>\n    </tr>\n    <tr>\n      <th>4</th>\n      <td>conj-adversativ</td>\n      <td>a</td>\n      <td>iară</td>\n      <td>lat</td>\n      <td>NaN</td>\n      <td>pap</td>\n    </tr>\n  </tbody>\n</table>\n</div>"
     },
     "execution_count": 2,
     "metadata": {},
     "output_type": "execute_result"
    }
   ],
   "source": [
    "df.head()"
   ],
   "metadata": {
    "collapsed": false,
    "ExecuteTime": {
     "end_time": "2023-12-03T21:24:42.683332100Z",
     "start_time": "2023-12-03T21:24:42.644573600Z"
    }
   }
  },
  {
   "cell_type": "code",
   "execution_count": 12,
   "outputs": [
    {
     "data": {
      "text/plain": "                   POS aro                ro origine  IDK autor\n0  art proclitic invar   a  al, a, ai, ale,      lat  NaN   pap\n1      conj-adversativ   a               dar     lat  NaN   pap\n2                 prep   a              de-a     lat  NaN   pap\n3      conj-adversativ   a              iar      lat  NaN   pap\n4      conj-adversativ   a              iară     lat  NaN   pap",
      "text/html": "<div>\n<style scoped>\n    .dataframe tbody tr th:only-of-type {\n        vertical-align: middle;\n    }\n\n    .dataframe tbody tr th {\n        vertical-align: top;\n    }\n\n    .dataframe thead th {\n        text-align: right;\n    }\n</style>\n<table border=\"1\" class=\"dataframe\">\n  <thead>\n    <tr style=\"text-align: right;\">\n      <th></th>\n      <th>POS</th>\n      <th>aro</th>\n      <th>ro</th>\n      <th>origine</th>\n      <th>IDK</th>\n      <th>autor</th>\n    </tr>\n  </thead>\n  <tbody>\n    <tr>\n      <th>0</th>\n      <td>art proclitic invar</td>\n      <td>a</td>\n      <td>al, a, ai, ale,</td>\n      <td>lat</td>\n      <td>NaN</td>\n      <td>pap</td>\n    </tr>\n    <tr>\n      <th>1</th>\n      <td>conj-adversativ</td>\n      <td>a</td>\n      <td>dar</td>\n      <td>lat</td>\n      <td>NaN</td>\n      <td>pap</td>\n    </tr>\n    <tr>\n      <th>2</th>\n      <td>prep</td>\n      <td>a</td>\n      <td>de-a</td>\n      <td>lat</td>\n      <td>NaN</td>\n      <td>pap</td>\n    </tr>\n    <tr>\n      <th>3</th>\n      <td>conj-adversativ</td>\n      <td>a</td>\n      <td>iar</td>\n      <td>lat</td>\n      <td>NaN</td>\n      <td>pap</td>\n    </tr>\n    <tr>\n      <th>4</th>\n      <td>conj-adversativ</td>\n      <td>a</td>\n      <td>iară</td>\n      <td>lat</td>\n      <td>NaN</td>\n      <td>pap</td>\n    </tr>\n  </tbody>\n</table>\n</div>"
     },
     "execution_count": 12,
     "metadata": {},
     "output_type": "execute_result"
    }
   ],
   "source": [
    "df.columns = [\"POS\", \"aro\", \"ro\", \"origine\", \"IDK\", \"autor\"]\n",
    "df.head()"
   ],
   "metadata": {
    "collapsed": false,
    "ExecuteTime": {
     "end_time": "2023-12-03T21:27:20.123864100Z",
     "start_time": "2023-12-03T21:27:20.106768400Z"
    }
   }
  },
  {
   "cell_type": "code",
   "execution_count": 14,
   "outputs": [
    {
     "name": "stdout",
     "output_type": "stream",
     "text": [
      "îndată\n",
      "yes\n",
      "înceapă\n",
      "no\n",
      "două\n",
      "yes\n",
      "învață\n",
      "no\n",
      "înecată\n",
      "no\n",
      "întoarcă\n",
      "no\n",
      "încoace\n",
      "yes\n",
      "Îndată\n",
      "no\n",
      "doară\n",
      "no\n",
      "înhață\n",
      "no\n"
     ]
    }
   ],
   "source": [
    "for word in candidates_dict_test[\"îndoauă\"]:\n",
    "    print(word)\n",
    "    if word in df[\"ro\"].values:\n",
    "        print(\"yes\")\n",
    "    else:\n",
    "        print(\"no\")"
   ],
   "metadata": {
    "collapsed": false,
    "ExecuteTime": {
     "end_time": "2023-12-03T22:10:07.504953300Z",
     "start_time": "2023-12-03T22:10:07.489009100Z"
    }
   }
  },
  {
   "cell_type": "code",
   "execution_count": null,
   "outputs": [],
   "source": [],
   "metadata": {
    "collapsed": false
   }
  }
 ],
 "metadata": {
  "kernelspec": {
   "display_name": "Python 3",
   "language": "python",
   "name": "python3"
  },
  "language_info": {
   "codemirror_mode": {
    "name": "ipython",
    "version": 2
   },
   "file_extension": ".py",
   "mimetype": "text/x-python",
   "name": "python",
   "nbconvert_exporter": "python",
   "pygments_lexer": "ipython2",
   "version": "2.7.6"
  }
 },
 "nbformat": 4,
 "nbformat_minor": 0
}
